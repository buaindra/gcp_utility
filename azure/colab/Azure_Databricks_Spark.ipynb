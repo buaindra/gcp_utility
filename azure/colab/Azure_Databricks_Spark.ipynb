{
  "nbformat": 4,
  "nbformat_minor": 0,
  "metadata": {
    "colab": {
      "name": "Azure_Databricks_Spark.ipynb",
      "provenance": [],
      "authorship_tag": "ABX9TyO3M19vSLrfo5ghYL/JpVhd",
      "include_colab_link": true
    },
    "kernelspec": {
      "name": "python3",
      "display_name": "Python 3"
    },
    "language_info": {
      "name": "python"
    }
  },
  "cells": [
    {
      "cell_type": "markdown",
      "metadata": {
        "id": "view-in-github",
        "colab_type": "text"
      },
      "source": [
        "<a href=\"https://colab.research.google.com/github/buaindra/gcp_utility/blob/main/azure/colab/Azure_Databricks_Spark.ipynb\" target=\"_parent\"><img src=\"https://colab.research.google.com/assets/colab-badge.svg\" alt=\"Open In Colab\"/></a>"
      ]
    },
    {
      "cell_type": "markdown",
      "source": [
        "# Azure Databricks and Spark"
      ],
      "metadata": {
        "id": "erPC0ptSFVfP"
      }
    },
    {
      "cell_type": "code",
      "execution_count": null,
      "metadata": {
        "id": "BUZ7Vl9GFOEt"
      },
      "outputs": [],
      "source": [
        ""
      ]
    }
  ]
}