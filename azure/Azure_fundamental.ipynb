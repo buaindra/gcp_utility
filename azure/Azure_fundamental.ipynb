{
  "nbformat": 4,
  "nbformat_minor": 0,
  "metadata": {
    "colab": {
      "name": "Azure_fundamental.ipynb",
      "provenance": [],
      "authorship_tag": "ABX9TyMRQkxAzsHicByxsKtAi2fh",
      "include_colab_link": true
    },
    "kernelspec": {
      "name": "python3",
      "display_name": "Python 3"
    },
    "language_info": {
      "name": "python"
    }
  },
  "cells": [
    {
      "cell_type": "markdown",
      "metadata": {
        "id": "view-in-github",
        "colab_type": "text"
      },
      "source": [
        "<a href=\"https://colab.research.google.com/github/buaindra/gcp_utility/blob/main/azure/Azure_fundamental.ipynb\" target=\"_parent\"><img src=\"https://colab.research.google.com/assets/colab-badge.svg\" alt=\"Open In Colab\"/></a>"
      ]
    },
    {
      "cell_type": "markdown",
      "source": [
        "# Azure"
      ],
      "metadata": {
        "id": "zJklIE1_W6Aj"
      }
    },
    {
      "cell_type": "markdown",
      "source": [
        "### Azure Datafactory\n",
        "#### ref: https://www.youtube.com/watch?v=EpDkxTHAhOs\n",
        "1. Integration Runtime\n",
        "  1. blob storage (excel file) -> linked service for blob -> dataset -> copy activity -> dataset -> linked service for sql -> SQL (table)\n",
        "2. "
      ],
      "metadata": {
        "id": "wcfdjr8QW8Oc"
      }
    },
    {
      "cell_type": "code",
      "source": [
        ""
      ],
      "metadata": {
        "id": "ScY0sT2jW_hy"
      },
      "execution_count": null,
      "outputs": []
    }
  ]
}