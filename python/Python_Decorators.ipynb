{
  "nbformat": 4,
  "nbformat_minor": 0,
  "metadata": {
    "colab": {
      "name": "Python_Decorators.ipynb",
      "provenance": [],
      "collapsed_sections": [],
      "authorship_tag": "ABX9TyOU3ny/cSa8uVvfosA/qKcc",
      "include_colab_link": true
    },
    "kernelspec": {
      "name": "python3",
      "display_name": "Python 3"
    },
    "language_info": {
      "name": "python"
    }
  },
  "cells": [
    {
      "cell_type": "markdown",
      "metadata": {
        "id": "view-in-github",
        "colab_type": "text"
      },
      "source": [
        "<a href=\"https://colab.research.google.com/github/buaindra/gcp_utility/blob/main/python/Python_Decorators.ipynb\" target=\"_parent\"><img src=\"https://colab.research.google.com/assets/colab-badge.svg\" alt=\"Open In Colab\"/></a>"
      ]
    },
    {
      "cell_type": "markdown",
      "source": [
        "## Python Decorators\n",
        "> A decorator in Python is a function that accepts another function as an argument. The decorator will usually modify or enhance the function it accepted and return the modified function.\n",
        ">\n",
        "\n",
        "#### Ref: \n",
        "1. Python Official Doc: https://docs.python.org/3.10/glossary.html#term-decorator\n",
        "2. Python101 Book: https://python101.pythonlibrary.org/chapter25_decorators.html"
      ],
      "metadata": {
        "id": "o6IKUZhLjBU8"
      }
    },
    {
      "cell_type": "code",
      "source": [
        "def original_concat_func(a, b):\n",
        "    return f\"{a}{b}\""
      ],
      "metadata": {
        "id": "FUqwlH8o5uF-"
      },
      "execution_count": null,
      "outputs": []
    },
    {
      "cell_type": "code",
      "source": [
        "def decorated_concat_func(func):\n",
        "    def child_concat_func(a, b):\n",
        "        return f\"{a}_{b}\"\n",
        "    return child_concat_func\n"
      ],
      "metadata": {
        "id": "3tO09-7X630A"
      },
      "execution_count": null,
      "outputs": []
    },
    {
      "cell_type": "markdown",
      "source": [
        "#### 1st way to link original function to decorated function"
      ],
      "metadata": {
        "id": "8EJykqpSXr4g"
      }
    },
    {
      "cell_type": "code",
      "source": [
        "print(original_concat_func(\"indra\", \"pal\"))\n",
        "\n",
        "new_concat_func = decorated_concat_func(original_concat_func)\n",
        "print(new_concat_func(\"indra\", \"pal\"))"
      ],
      "metadata": {
        "colab": {
          "base_uri": "https://localhost:8080/"
        },
        "id": "Ru9ega-U6Rmd",
        "outputId": "8450e4be-f8a0-4658-a91b-347f45a07535"
      },
      "execution_count": null,
      "outputs": [
        {
          "output_type": "stream",
          "name": "stdout",
          "text": [
            "indrapal\n",
            "indra_pal\n"
          ]
        }
      ]
    },
    {
      "cell_type": "markdown",
      "source": [
        "#### 2nd way to link original function to decorated function"
      ],
      "metadata": {
        "id": "mp9eloLUXyLN"
      }
    },
    {
      "cell_type": "code",
      "source": [
        "def decorated_concat_func(func):\n",
        "    def child_concat_func(a, b):\n",
        "        return f\"{a} {b}\"\n",
        "    return child_concat_func\n",
        "\n",
        "@decorated_concat_func\n",
        "def original_concat_func(a, b):\n",
        "    return f\"{a}{b}\"\n",
        "\n",
        "original_concat_func(\"indra\", \"pal\")"
      ],
      "metadata": {
        "colab": {
          "base_uri": "https://localhost:8080/",
          "height": 36
        },
        "id": "muS94c_fW02D",
        "outputId": "a08aba3f-57d8-459f-b723-eb1d49831746"
      },
      "execution_count": null,
      "outputs": [
        {
          "output_type": "execute_result",
          "data": {
            "text/plain": [
              "'indra pal'"
            ],
            "application/vnd.google.colaboratory.intrinsic+json": {
              "type": "string"
            }
          },
          "metadata": {},
          "execution_count": 21
        }
      ]
    },
    {
      "cell_type": "markdown",
      "source": [
        "### Built-in Decorators\n",
        "\n",
        "#### Python comes with several built-in decorators. The big three are:\n",
        "\n",
        "* **@classmethod**\n",
        "  1. It can be called either on the class (such as C.f()) or on an instance (such as C().f()).\n",
        "  2. The @classmethod decorator can be called with with an instance of a class or directly by the class itself as its first argument.\n",
        "  3. is as an alternate constructor or helper method for initialization.\n",
        "\n",
        "* **@staticmethod**\n",
        "  1. The @staticmethod decorator is just a function inside of a class. You can call it both with and without instantiating the class.\n",
        "\n",
        "* **@property**\n",
        "  1. One of the simplest ways to use a property is to use it as a decorator of a method. \n",
        "  2. This allows you to turn a class method into a class attribute. "
      ],
      "metadata": {
        "id": "QLwB-YDIpbdL"
      }
    },
    {
      "cell_type": "code",
      "source": [
        "class Demo_cls(object):\n",
        "    def __init__(self):\n",
        "        print(\"init method\")\n",
        "\n",
        "    def double(self, x):\n",
        "        print(f\"double: {x*2}\")\n",
        "        return x\n",
        "\n",
        "    @classmethod\n",
        "    def triple(klass, x):  # as its @classmethod, its takes class as first argument\n",
        "        print(f\"{klass}\")\n",
        "        print(f\"triple: {x*3}\")\n",
        "        return x\n",
        "\n",
        "    @staticmethod\n",
        "    def quad(x):  # as its a @staticmethod, don't pass self\n",
        "        print(f\"quad: {x*4}\")\n",
        "        return x\n",
        "\n",
        "demo_obj = Demo_cls()"
      ],
      "metadata": {
        "colab": {
          "base_uri": "https://localhost:8080/"
        },
        "id": "uyAD7GCzZnIO",
        "outputId": "2ffee774-2d1b-4a80-d2e9-228b1577e870"
      },
      "execution_count": null,
      "outputs": [
        {
          "output_type": "stream",
          "name": "stdout",
          "text": [
            "init method\n"
          ]
        }
      ]
    },
    {
      "cell_type": "code",
      "source": [
        "print(Demo_cls())\n",
        "print(Demo_cls.double)  # regular function for @staticmethod\n",
        "print(Demo_cls.triple)  # bound method for @classmethod\n",
        "print(Demo_cls.quad)  # regular function for @staticmethod\n",
        "\n",
        "#print(Demo_cls.double(3))  # will give an error as its not a @classmethod or @staticmethod\n",
        "print(demo_obj.double(3))\n",
        "\n",
        "print(Demo_cls.triple(3))\n",
        "print(demo_obj.triple(3))\n",
        "\n",
        "print(Demo_cls.quad(3))\n",
        "print(demo_obj.quad(3))"
      ],
      "metadata": {
        "colab": {
          "base_uri": "https://localhost:8080/"
        },
        "id": "JUu-NdX6Zq1v",
        "outputId": "626c9412-31ca-4dfa-e49a-42ec2c72de21"
      },
      "execution_count": null,
      "outputs": [
        {
          "output_type": "stream",
          "name": "stdout",
          "text": [
            "init method\n",
            "<__main__.Demo_cls object at 0x7f73e93cb790>\n",
            "<function Demo_cls.double at 0x7f73e935fa70>\n",
            "<bound method Demo_cls.triple of <class '__main__.Demo_cls'>>\n",
            "<function Demo_cls.quad at 0x7f73e935fb00>\n",
            "double: 6\n",
            "3\n",
            "<class '__main__.Demo_cls'>\n",
            "triple: 9\n",
            "3\n",
            "<class '__main__.Demo_cls'>\n",
            "triple: 9\n",
            "3\n",
            "quad: 12\n",
            "3\n",
            "quad: 12\n",
            "3\n"
          ]
        }
      ]
    },
    {
      "cell_type": "markdown",
      "source": [
        "#### Bound Method vs Regular Function\n",
        "###### Ref:\n",
        "1. https://www.geeksforgeeks.org/bound-unbound-and-static-methods-in-python/\n",
        "2. https://stackoverflow.com/questions/11949808/what-is-the-difference-between-a-function-an-unbound-method-and-a-bound-method"
      ],
      "metadata": {
        "id": "1Fupf0ycbz7Y"
      }
    },
    {
      "cell_type": "markdown",
      "source": [
        "## Python Properties\n",
        "> Python has a neat little concept called a property that can do several useful things. \n",
        ">\n",
        "\n",
        "#### We will be looking into how to do the following:\n",
        "* Convert class methods into read-only attributes\n",
        "* Reimplement setters and getters into an attribute\n",
        "* If you look at the signature for property, it has fget, fset, fdel and doc as “arguments”.\n",
        "\n",
        "1. Setter: They're meant to take care of assignment statements to your property, thus they'll only accept one argument, which is whatever is to the right of the = operator."
      ],
      "metadata": {
        "id": "qUi2Cxridggl"
      }
    },
    {
      "cell_type": "markdown",
      "source": [
        "### Older way of creating properties"
      ],
      "metadata": {
        "id": "SeqhoEzUylc1"
      }
    },
    {
      "cell_type": "code",
      "source": [
        "class PrintName():\n",
        "    def __init__(self):\n",
        "        self._fname = None\n",
        "        self._lname = None\n",
        "\n",
        "    def get_name(self):\n",
        "        return self._fname + \" \" + self._lname\n",
        "\n",
        "    def set_name(self, name):\n",
        "        fname, lname = name\n",
        "        self._fname = fname\n",
        "        self._lname = lname\n",
        "\n",
        "    name = property(get_name, set_name)  # now name attribute will do same behaviour like get_name, set_name methods\n"
      ],
      "metadata": {
        "id": "Mcm06mEmymEB"
      },
      "execution_count": 6,
      "outputs": []
    },
    {
      "cell_type": "code",
      "source": [
        "n = PrintName()\n",
        "# older way of setting and getting value\n",
        "n.set_name((\"Indranil\", \"Pal\"))\n",
        "n.get_name()"
      ],
      "metadata": {
        "colab": {
          "base_uri": "https://localhost:8080/",
          "height": 36
        },
        "id": "WB4IBSa40GSA",
        "outputId": "c2322165-50bf-4303-bfee-378a37ffc6dc"
      },
      "execution_count": 9,
      "outputs": [
        {
          "output_type": "execute_result",
          "data": {
            "text/plain": [
              "'Indranil Pal'"
            ],
            "application/vnd.google.colaboratory.intrinsic+json": {
              "type": "string"
            }
          },
          "metadata": {},
          "execution_count": 9
        }
      ]
    },
    {
      "cell_type": "code",
      "source": [
        "# using property function, name attribute do same behaviour like get_name, set_name methods\n",
        "n.name = \"Arita\", \"Pal\"\n",
        "n.name"
      ],
      "metadata": {
        "colab": {
          "base_uri": "https://localhost:8080/",
          "height": 36
        },
        "id": "Ot51Jq4H8_2y",
        "outputId": "17165959-0fc0-42c1-e6c1-c0bfc78a93ed"
      },
      "execution_count": 10,
      "outputs": [
        {
          "output_type": "execute_result",
          "data": {
            "text/plain": [
              "'Arita Pal'"
            ],
            "application/vnd.google.colaboratory.intrinsic+json": {
              "type": "string"
            }
          },
          "metadata": {},
          "execution_count": 10
        }
      ]
    },
    {
      "cell_type": "markdown",
      "source": [
        "### New approach to create the property using decorator"
      ],
      "metadata": {
        "id": "8IlxYphV-EKn"
      }
    },
    {
      "cell_type": "code",
      "source": [
        "class New_PrintName():\n",
        "    def __init__(self):\n",
        "        self._fname = None\n",
        "        self._lname = None\n",
        "\n",
        "    @property\n",
        "    def get_name(self):\n",
        "        return self._fname + \" \" + self._lname\n",
        "\n",
        "    @get_name.setter\n",
        "    def set_name(self, name):\n",
        "        fname, lname = name\n",
        "        self._fname = fname\n",
        "        self._lname = lname"
      ],
      "metadata": {
        "id": "i9_lmNl4bRHl"
      },
      "execution_count": 12,
      "outputs": []
    },
    {
      "cell_type": "code",
      "source": [
        "n1 = New_PrintName()\n",
        "n1.set_name = \"Manoj\", \"Kumer\"  # though set_name is a method, but due to @property decorator, its act as an attribute\n",
        "n1.get_name"
      ],
      "metadata": {
        "colab": {
          "base_uri": "https://localhost:8080/",
          "height": 36
        },
        "id": "FRpWjDBK-elg",
        "outputId": "9501e1cb-b01f-4757-a441-8687b05061ea"
      },
      "execution_count": 14,
      "outputs": [
        {
          "output_type": "execute_result",
          "data": {
            "text/plain": [
              "'Manoj Kumer'"
            ],
            "application/vnd.google.colaboratory.intrinsic+json": {
              "type": "string"
            }
          },
          "metadata": {},
          "execution_count": 14
        }
      ]
    }
  ]
}