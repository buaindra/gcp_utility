{
  "nbformat": 4,
  "nbformat_minor": 0,
  "metadata": {
    "colab": {
      "name": "Python_Decorators.ipynb",
      "provenance": [],
      "collapsed_sections": [],
      "authorship_tag": "ABX9TyOmqjBYHMrmprgv+r7pH6eM",
      "include_colab_link": true
    },
    "kernelspec": {
      "name": "python3",
      "display_name": "Python 3"
    },
    "language_info": {
      "name": "python"
    }
  },
  "cells": [
    {
      "cell_type": "markdown",
      "metadata": {
        "id": "view-in-github",
        "colab_type": "text"
      },
      "source": [
        "<a href=\"https://colab.research.google.com/github/buaindra/gcp_utility/blob/main/python/Python_Decorators.ipynb\" target=\"_parent\"><img src=\"https://colab.research.google.com/assets/colab-badge.svg\" alt=\"Open In Colab\"/></a>"
      ]
    },
    {
      "cell_type": "markdown",
      "source": [
        "## Python Decorators\n",
        ">\n",
        "> A decorator in Python is a function that accepts another function as an argument. The decorator will usually modify or enhance the function it accepted and return the modified function.\n",
        ">\n",
        "\n",
        "#### Ref: \n",
        "1. Python Official Doc: https://docs.python.org/3.10/glossary.html#term-decorator\n",
        "2. Python101 Book: https://python101.pythonlibrary.org/chapter25_decorators.html"
      ],
      "metadata": {
        "id": "o6IKUZhLjBU8"
      }
    },
    {
      "cell_type": "code",
      "source": [
        "def original_concat_func(a, b):\n",
        "    return f\"{a}{b}\""
      ],
      "metadata": {
        "id": "FUqwlH8o5uF-"
      },
      "execution_count": 18,
      "outputs": []
    },
    {
      "cell_type": "code",
      "source": [
        "def decorated_concat_func(func):\n",
        "    def child_concat_func(a, b):\n",
        "        return f\"{a}_{b}\"\n",
        "    return child_concat_func\n"
      ],
      "metadata": {
        "id": "3tO09-7X630A"
      },
      "execution_count": 19,
      "outputs": []
    },
    {
      "cell_type": "markdown",
      "source": [
        "#### 1st way to link original function to decorated function"
      ],
      "metadata": {
        "id": "8EJykqpSXr4g"
      }
    },
    {
      "cell_type": "code",
      "source": [
        "print(original_concat_func(\"indra\", \"pal\"))\n",
        "\n",
        "new_concat_func = decorated_concat_func(original_concat_func)\n",
        "print(new_concat_func(\"indra\", \"pal\"))"
      ],
      "metadata": {
        "colab": {
          "base_uri": "https://localhost:8080/",
          "height": 0
        },
        "id": "Ru9ega-U6Rmd",
        "outputId": "8450e4be-f8a0-4658-a91b-347f45a07535"
      },
      "execution_count": 20,
      "outputs": [
        {
          "output_type": "stream",
          "name": "stdout",
          "text": [
            "indrapal\n",
            "indra_pal\n"
          ]
        }
      ]
    },
    {
      "cell_type": "markdown",
      "source": [
        "#### 2nd way to link original function to decorated function"
      ],
      "metadata": {
        "id": "mp9eloLUXyLN"
      }
    },
    {
      "cell_type": "code",
      "source": [
        "def decorated_concat_func(func):\n",
        "    def child_concat_func(a, b):\n",
        "        return f\"{a} {b}\"\n",
        "    return child_concat_func\n",
        "\n",
        "@decorated_concat_func\n",
        "def original_concat_func(a, b):\n",
        "    return f\"{a}{b}\"\n",
        "\n",
        "original_concat_func(\"indra\", \"pal\")"
      ],
      "metadata": {
        "colab": {
          "base_uri": "https://localhost:8080/",
          "height": 36
        },
        "id": "muS94c_fW02D",
        "outputId": "a08aba3f-57d8-459f-b723-eb1d49831746"
      },
      "execution_count": 21,
      "outputs": [
        {
          "output_type": "execute_result",
          "data": {
            "text/plain": [
              "'indra pal'"
            ],
            "application/vnd.google.colaboratory.intrinsic+json": {
              "type": "string"
            }
          },
          "metadata": {},
          "execution_count": 21
        }
      ]
    },
    {
      "cell_type": "markdown",
      "source": [
        "### Built-in Decorators\n",
        "\n",
        "#### Python comes with several built-in decorators. The big three are:\n",
        "\n",
        "* **@classmethod**\n",
        "  1. It can be called either on the class (such as C.f()) or on an instance (such as C().f()).\n",
        "  2. The @classmethod decorator can be called with with an instance of a class or directly by the class itself as its first argument.\n",
        "  3. is as an alternate constructor or helper method for initialization.\n",
        "\n",
        "* **@staticmethod**\n",
        "  1. The @staticmethod decorator is just a function inside of a class. You can call it both with and without instantiating the class.\n",
        "\n",
        "* **@property**\n",
        "  1. One of the simplest ways to use a property is to use it as a decorator of a method. \n",
        "  2. This allows you to turn a class method into a class attribute. "
      ],
      "metadata": {
        "id": "QLwB-YDIpbdL"
      }
    },
    {
      "cell_type": "code",
      "source": [
        "class Demo_cls(object):\n",
        "    def __init__(self):\n",
        "        print(\"init method\")\n",
        "\n",
        "    def double(self, x):\n",
        "        print(f\"double: {x*2}\")\n",
        "        return x\n",
        "\n",
        "    @classmethod\n",
        "    def triple(klass, x):  # as its @classmethod, its takes class as first argument\n",
        "        print(f\"{klass}\")\n",
        "        print(f\"triple: {x*3}\")\n",
        "        return x\n",
        "\n",
        "    @staticmethod\n",
        "    def quad(x):  # as its a @staticmethod, don't pass self\n",
        "        print(f\"quad: {x*4}\")\n",
        "        return x\n",
        "\n",
        "demo_obj = Demo_cls()"
      ],
      "metadata": {
        "colab": {
          "base_uri": "https://localhost:8080/"
        },
        "id": "uyAD7GCzZnIO",
        "outputId": "2ffee774-2d1b-4a80-d2e9-228b1577e870"
      },
      "execution_count": 46,
      "outputs": [
        {
          "output_type": "stream",
          "name": "stdout",
          "text": [
            "init method\n"
          ]
        }
      ]
    },
    {
      "cell_type": "code",
      "source": [
        "print(Demo_cls())\n",
        "print(Demo_cls.double)  # regular function for @staticmethod\n",
        "print(Demo_cls.triple)  # bound method for @classmethod\n",
        "print(Demo_cls.quad)  # regular function for @staticmethod\n",
        "\n",
        "#print(Demo_cls.double(3))  # will give an error as its not a @classmethod or @staticmethod\n",
        "print(demo_obj.double(3))\n",
        "\n",
        "print(Demo_cls.triple(3))\n",
        "print(demo_obj.triple(3))\n",
        "\n",
        "print(Demo_cls.quad(3))\n",
        "print(demo_obj.quad(3))"
      ],
      "metadata": {
        "colab": {
          "base_uri": "https://localhost:8080/"
        },
        "id": "JUu-NdX6Zq1v",
        "outputId": "626c9412-31ca-4dfa-e49a-42ec2c72de21"
      },
      "execution_count": 47,
      "outputs": [
        {
          "output_type": "stream",
          "name": "stdout",
          "text": [
            "init method\n",
            "<__main__.Demo_cls object at 0x7f73e93cb790>\n",
            "<function Demo_cls.double at 0x7f73e935fa70>\n",
            "<bound method Demo_cls.triple of <class '__main__.Demo_cls'>>\n",
            "<function Demo_cls.quad at 0x7f73e935fb00>\n",
            "double: 6\n",
            "3\n",
            "<class '__main__.Demo_cls'>\n",
            "triple: 9\n",
            "3\n",
            "<class '__main__.Demo_cls'>\n",
            "triple: 9\n",
            "3\n",
            "quad: 12\n",
            "3\n",
            "quad: 12\n",
            "3\n"
          ]
        }
      ]
    },
    {
      "cell_type": "markdown",
      "source": [
        "## Python Properties\n",
        ">\n",
        "> Python has a neat little concept called a property that can do several useful things. \n",
        ">\n",
        "\n",
        "#### We will be looking into how to do the following:\n",
        "* Convert class methods into read-only attributes\n",
        "* Reimplement setters and getters into an attribute"
      ],
      "metadata": {
        "id": "qUi2Cxridggl"
      }
    },
    {
      "cell_type": "markdown",
      "source": [
        "#### Bound Method vs Regular Function"
      ],
      "metadata": {
        "id": "1Fupf0ycbz7Y"
      }
    },
    {
      "cell_type": "code",
      "source": [
        ""
      ],
      "metadata": {
        "id": "i9_lmNl4bRHl"
      },
      "execution_count": null,
      "outputs": []
    }
  ]
}