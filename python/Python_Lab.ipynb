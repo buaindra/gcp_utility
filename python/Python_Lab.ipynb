{
  "nbformat": 4,
  "nbformat_minor": 0,
  "metadata": {
    "colab": {
      "name": "Python_Lab.ipynb",
      "provenance": [],
      "collapsed_sections": [],
      "authorship_tag": "ABX9TyN/szpJGSjxkQShY9vCaZGk",
      "include_colab_link": true
    },
    "kernelspec": {
      "name": "python3",
      "display_name": "Python 3"
    },
    "language_info": {
      "name": "python"
    }
  },
  "cells": [
    {
      "cell_type": "markdown",
      "metadata": {
        "id": "view-in-github",
        "colab_type": "text"
      },
      "source": [
        "<a href=\"https://colab.research.google.com/github/buaindra/gcp_utility/blob/main/python/Python_Lab.ipynb\" target=\"_parent\"><img src=\"https://colab.research.google.com/assets/colab-badge.svg\" alt=\"Open In Colab\"/></a>"
      ]
    },
    {
      "cell_type": "code",
      "execution_count": null,
      "metadata": {
        "id": "NBT_ryBdIqWt"
      },
      "outputs": [],
      "source": [
        ""
      ]
    },
    {
      "cell_type": "markdown",
      "source": [
        "### Python\n",
        "\n",
        "1. Python is a high level\n",
        "2. is a interpreted language though it can create .pyc file (compiled one) for faster process\n",
        "3. use .pyw for UI based application , it will not execute print statements\n",
        "\n",
        "\n",
        "\n"
      ],
      "metadata": {
        "id": "jC_LWTyci22l"
      }
    },
    {
      "cell_type": "markdown",
      "source": [
        "#### Identifiers aka variables\n",
        "\n",
        "1. Identifiers pointing to the memory location which holds the data\n",
        "2. **sys.getrefcount** : get the count of identifiers which pointing to the same memory location. Also is it actual count or need to add -1 or -2 to get actual count\n",
        "3. sometimes interactive mode, python assigns different memory address for same value and sometimes its allocate same memory address for same value\n",
        "```python\n",
        "x = 1000\n",
        "y = 1000\n",
        "z = 1000\n",
        "print(f\"memory of x: {id(x)} \\nmemory of y: {id(y)} \\nmemory of z: {id(z)}\")\n",
        "```\n",
        "This is happening because of, python has diff versions and its working on **memory optimization**.\n",
        "4.\n"
      ],
      "metadata": {
        "id": "peip4_7ul-pr"
      }
    },
    {
      "cell_type": "code",
      "source": [
        "# its a simple assignment, so its pointing to same memory location and its not created new memory location\n",
        "a = \"May\"\n",
        "b = a\n",
        "\n",
        "print(\"memory of a:\", id(a), \"memory of b:\", id(b))"
      ],
      "metadata": {
        "colab": {
          "base_uri": "https://localhost:8080/"
        },
        "id": "Slf66xnil_7O",
        "outputId": "12e2e337-643b-4994-bb4d-022c6a6a8b08"
      },
      "execution_count": null,
      "outputs": [
        {
          "output_type": "stream",
          "name": "stdout",
          "text": [
            "memory of a: 139689943924592 memory of b: 139689943924592\n"
          ]
        }
      ]
    },
    {
      "cell_type": "code",
      "source": [
        "# is \"compare the memory locations, if its same, will return True\"\n",
        "# == \"compare the values, if its same then it return to True\"\n",
        "\n",
        "a = 10.0\n",
        "b = 10\n",
        "\n",
        "print(a is b)\n",
        "print(a == b)"
      ],
      "metadata": {
        "colab": {
          "base_uri": "https://localhost:8080/"
        },
        "id": "RW-SpgIom2TL",
        "outputId": "c4b9ad04-cc4f-4a28-e9a9-1e9da6f1bd7d"
      },
      "execution_count": null,
      "outputs": [
        {
          "output_type": "stream",
          "name": "stdout",
          "text": [
            "False\n",
            "True\n"
          ]
        }
      ]
    },
    {
      "cell_type": "markdown",
      "source": [
        "#### Memory location of variables in Python (Its depends on interpreter)"
      ],
      "metadata": {
        "id": "-nKSai_aHM44"
      }
    },
    {
      "cell_type": "code",
      "source": [
        "import sys\n",
        "\n",
        "a = b = c = 1000\n",
        "x = 1000\n",
        "y = 1000\n",
        "\n",
        "print(f\"memory of a: {id(a)} \\nmemory of b: {id(b)} \\nmemory of c: {id(c)} \\n\" \\\n",
        "      f\"memory of x: {id(x)} \\nmemory of y: {id(y)}\")\n",
        "\n",
        "# values are compared\n",
        "print(\"a == b:\", a == b)\n",
        "print(\"a == x:\", a == x)\n",
        "print(\"b == y:\", b == y)\n",
        "\n",
        "# memory location are compared\n",
        "print(\"a is b:\", a is b)\n",
        "print(\"a is x:\", a is x)\n",
        "print(\"b is y:\", b is y)\n",
        "\n",
        "# sys.getrefcount : get the count of identifiers which pointing to the same memory location. Also is it actual count or need to add -1 or -2 to get actual count\n",
        "print(sys.getrefcount(a))\n",
        "print(sys.getrefcount(x))\n",
        "print(sys.getrefcount(y))"
      ],
      "metadata": {
        "colab": {
          "base_uri": "https://localhost:8080/"
        },
        "id": "MP1KOSgkqpfT",
        "outputId": "f7982a4a-34e7-4158-966c-70b982d32af4"
      },
      "execution_count": null,
      "outputs": [
        {
          "output_type": "stream",
          "name": "stdout",
          "text": [
            "memory of a: 140529707604400 \n",
            "memory of b: 140529707604400 \n",
            "memory of c: 140529707604400 \n",
            "memory of x: 140529707604304 \n",
            "memory of y: 140529707603984\n",
            "a == b: True\n",
            "a == x: True\n",
            "b == y: True\n",
            "a is b: True\n",
            "a is x: False\n",
            "b is y: False\n",
            "5\n",
            "3\n",
            "3\n"
          ]
        }
      ]
    },
    {
      "cell_type": "markdown",
      "source": [
        "#### Playaround with int and float"
      ],
      "metadata": {
        "id": "U9OGpnP-H3dw"
      }
    },
    {
      "cell_type": "code",
      "source": [
        "a = 10\n",
        "b = 10/1\n",
        "c = 10_10_00_00\n",
        "\n",
        "print(f\"a={a}, type:{type(a)}\")\n",
        "print(f\"b={b}, type:{type(b)}\")\n",
        "print(f\"c={c}, type:{type(c)}\")\n",
        "\n",
        "# numeric is better than float to convert string to float\n",
        "b = int(b)\n",
        "print(f\"b={b}, type:{type(b)}\")\n",
        "\n",
        "# int() convert interger from string , float can convert decimal values from string\n",
        "d = \"10\"\n",
        "print(f\"d: {d} and int(d): {int(d)}\")\n",
        "\n",
        "d = \"10.0\"\n",
        "print(f\"d: {d} and int(float(d)): {int(float(d))}\")\n",
        "\n",
        "# numeric"
      ],
      "metadata": {
        "colab": {
          "base_uri": "https://localhost:8080/"
        },
        "id": "O1V4I62uC7lG",
        "outputId": "431137e8-f551-481a-df80-1634966c86e8"
      },
      "execution_count": null,
      "outputs": [
        {
          "output_type": "stream",
          "name": "stdout",
          "text": [
            "a=10, type:<class 'int'>\n",
            "b=10.0, type:<class 'float'>\n",
            "b=10, type:<class 'int'>\n",
            "d: 10 and int(d): 10\n",
            "d: 10.0 and int(float(d)): 10\n"
          ]
        }
      ]
    },
    {
      "cell_type": "markdown",
      "source": [
        "### Hash \n",
        "1. means unique values\n",
        "2. int, bool, float, strings, tupples are hash\n",
        "3. list is not hashable.\n",
        "3. **set** consists of hashable element\n",
        "4. **dict** key should be hashable element.\n",
        "\n",
        "> *Gotcha*\n",
        ">\n",
        ">> a = (1,2,3)\n",
        ">>\n",
        ">> b = (1, [1,2], 3)\n",
        "\n",
        ">> both a and b are tupple, but a is hashable but b is not."
      ],
      "metadata": {
        "id": "fbcnU2CHlyGO"
      }
    },
    {
      "cell_type": "code",
      "source": [
        "a = 10\n",
        "b = 10.0\n",
        "c = 10/1\n",
        "d = 100/10\n",
        "print(\"hash(a)\", hash(a))\n",
        "print(\"hash(b)\", hash(b))\n",
        "print(\"hash(c)\", hash(c))\n",
        "print(\"hash(d)\", hash(d))\n",
        "\n",
        "print(\"id(a)\", id(a))\n",
        "print(\"id(b)\", id(b))\n",
        "print(\"id(c)\", id(c))\n",
        "print(\"id(d)\", id(d))"
      ],
      "metadata": {
        "colab": {
          "base_uri": "https://localhost:8080/"
        },
        "id": "6WK5vt9kg7-U",
        "outputId": "e3823b96-1d00-438f-dd4c-dcf2e4ded5da"
      },
      "execution_count": null,
      "outputs": [
        {
          "output_type": "stream",
          "name": "stdout",
          "text": [
            "hash(a) 10\n",
            "hash(b) 10\n",
            "hash(c) 10\n",
            "hash(d) 10\n",
            "id(a) 11256352\n",
            "id(b) 140095300592368\n",
            "id(c) 140095300523440\n",
            "id(d) 140095300522672\n"
          ]
        }
      ]
    },
    {
      "cell_type": "markdown",
      "source": [
        "#### Playaround with Boolean"
      ],
      "metadata": {
        "id": "QOxdP6BnIExi"
      }
    },
    {
      "cell_type": "code",
      "source": [
        "a = 1\n",
        "b = True\n",
        "print(\"a == b\", a == b)\n",
        "print(\"a is b\", a is b)"
      ],
      "metadata": {
        "colab": {
          "base_uri": "https://localhost:8080/"
        },
        "id": "6hU68RJdID3V",
        "outputId": "9fb1619c-c237-49a5-f984-cf99a8232089"
      },
      "execution_count": null,
      "outputs": [
        {
          "output_type": "stream",
          "name": "stdout",
          "text": [
            "a == b True\n",
            "a is b False\n"
          ]
        }
      ]
    },
    {
      "cell_type": "markdown",
      "source": [
        "#### Playaround with String"
      ],
      "metadata": {
        "id": "q_RgJQ98KpiH"
      }
    },
    {
      "cell_type": "code",
      "source": [
        "path = \"c:\\new_folder\\technology\"\n",
        "print(path)\n",
        "path = \"c:\\\\new_folder\\\\technology\"\n",
        "print(path)\n",
        "path = r\"c:\\new_folder\\technology\"\n",
        "print(path)"
      ],
      "metadata": {
        "colab": {
          "base_uri": "https://localhost:8080/"
        },
        "id": "fm0N4q7rKqXk",
        "outputId": "4cb0ad94-ef4b-41c2-efc4-9843403d7faf"
      },
      "execution_count": null,
      "outputs": [
        {
          "output_type": "stream",
          "name": "stdout",
          "text": [
            "c:\n",
            "ew_folder\technology\n",
            "c:\\new_folder\\technology\n",
            "c:\\new_folder\\technology\n"
          ]
        }
      ]
    },
    {
      "cell_type": "code",
      "source": [
        "'{.05d}'.format(5)"
      ],
      "metadata": {
        "id": "ScC1M6wtcICg",
        "outputId": "80235b52-964c-41c7-ce44-38b3960c1d34",
        "colab": {
          "base_uri": "https://localhost:8080/",
          "height": 165
        }
      },
      "execution_count": null,
      "outputs": [
        {
          "output_type": "error",
          "ename": "AttributeError",
          "evalue": "ignored",
          "traceback": [
            "\u001b[0;31m---------------------------------------------------------------------------\u001b[0m",
            "\u001b[0;31mAttributeError\u001b[0m                            Traceback (most recent call last)",
            "\u001b[0;32m<ipython-input-6-fab4c4281649>\u001b[0m in \u001b[0;36m<module>\u001b[0;34m()\u001b[0m\n\u001b[0;32m----> 1\u001b[0;31m \u001b[0;34m'{.05d}'\u001b[0m\u001b[0;34m.\u001b[0m\u001b[0mformat\u001b[0m\u001b[0;34m(\u001b[0m\u001b[0;36m5\u001b[0m\u001b[0;34m)\u001b[0m\u001b[0;34m\u001b[0m\u001b[0;34m\u001b[0m\u001b[0m\n\u001b[0m",
            "\u001b[0;31mAttributeError\u001b[0m: 'int' object has no attribute '05d'"
          ]
        }
      ]
    },
    {
      "cell_type": "markdown",
      "source": [
        "### List"
      ],
      "metadata": {
        "id": "xucIuACfa_8M"
      }
    },
    {
      "cell_type": "code",
      "source": [
        "dict(zip(lista, listb))"
      ],
      "metadata": {
        "id": "PjxOgJgwbDnJ"
      },
      "execution_count": null,
      "outputs": []
    },
    {
      "cell_type": "markdown",
      "source": [
        "### What is the difference between `list` and `tuple`\n",
        "\n",
        "order | list | Tuple \n",
        "--- | --- | ---\n",
        "1 | list is ordered and heterogeneous collection | tupple is also ordered and heterogeneous collection\n",
        "2 | List can be initiated by list() or [] | tupple can be initiated by tupple() or ()\n",
        "3 | List is mutable | where as tupple is immutable\n",
        "4 | list can't be added into set or dict key | tuple can be added to set and dict key for its hash and immutable nature\n",
        "5 | for same data element list takes more memory spaces (e.g. \\<list\\>.\\_\\_sizeof\\_\\_() ) | for same data element tuple takes less memory spaces (e.g. \\<tupple\\>.\\_\\_sizeof\\_\\_() )\n",
        "6 | Lists has variable length | tuple has fixed length\n",
        "7 | List has more functionality | Tuple has less functionality"
      ],
      "metadata": {
        "id": "RBquy6CrwFPf"
      }
    },
    {
      "cell_type": "code",
      "source": [
        "import sys\n",
        "a_list = [1,2,3]\n",
        "a_tuple = (1,2,4)\n",
        "print(sys.getsizeof(a_list))\n",
        "print(sys.getsizeof(a_tuple))"
      ],
      "metadata": {
        "colab": {
          "base_uri": "https://localhost:8080/"
        },
        "id": "1S-YddOs1fZQ",
        "outputId": "4a8aa10a-8b91-4338-e18d-fc4dfd7748b8"
      },
      "execution_count": null,
      "outputs": [
        {
          "output_type": "stream",
          "name": "stdout",
          "text": [
            "96\n",
            "80\n"
          ]
        }
      ]
    },
    {
      "cell_type": "code",
      "source": [
        "#### Remove duplicates from a `list`\n",
        "a = [1, 2, 2, 3, 3, 4, 5, 3, 2, 6, 7]\n",
        "# a = [1,2,3,4,5,6,7,8,1,3,4, [3,4]]  # will not work for list inside list\n",
        "b = list(set(a))\n",
        "print(\"before removing duplicates, list value:\", a)\n",
        "print(\"After removing duplicates, list value:\", b)"
      ],
      "metadata": {
        "colab": {
          "base_uri": "https://localhost:8080/"
        },
        "id": "w4oP5g4S23-l",
        "outputId": "0156118f-26d0-457a-9fd3-baddb1534235"
      },
      "execution_count": null,
      "outputs": [
        {
          "output_type": "stream",
          "name": "stdout",
          "text": [
            "before removing duplicates, list value: [1, 2, 2, 3, 3, 4, 5, 3, 2, 6, 7]\n",
            "After removing duplicates, list value: [1, 2, 3, 4, 5, 6, 7]\n"
          ]
        }
      ]
    },
    {
      "cell_type": "code",
      "source": [
        "#### Remove duplicates from a `list`\n",
        "test_list = [1,2,3,4,5,6,7,8,1,3,4, [3,4]]\n",
        "print(\"The original list is :\" + str(test_list))\n",
        "empty = []\n",
        "for i in test_list:\n",
        "    if i not in empty:\n",
        "        empty.append(i)\n",
        "print(\"The list after removing duplicates :\" + str(empty))"
      ],
      "metadata": {
        "colab": {
          "base_uri": "https://localhost:8080/"
        },
        "id": "Gbio6eXzUE0_",
        "outputId": "13fcaf71-3a0a-46be-d2b5-2324ba560ff8"
      },
      "execution_count": null,
      "outputs": [
        {
          "output_type": "stream",
          "name": "stdout",
          "text": [
            "The original list is :[1, 2, 3, 4, 5, 6, 7, 8, 1, 3, 4, [3, 4]]\n",
            "The list after removing duplicates :[1, 2, 3, 4, 5, 6, 7, 8, [3, 4]]\n"
          ]
        }
      ]
    },
    {
      "cell_type": "code",
      "source": [
        "#### What is the difference between `del` and `remove` methods of the `list`\n",
        "c = list(range(1, 10, 2))\n",
        "print(\"original list is\", c)\n",
        "\n",
        "# del takes index value, and del is not mothod of list object\n",
        "del(c[2])  # del c[2] also correct \n",
        "print(r\"after delete (del(c[2])) list is \", c)\n",
        "\n",
        "# remove takes item value to remove, and remove is the mothod of list object\n",
        "c.remove(7)  \n",
        "print(\"after remove (c.remove(7)) list is \", c)"
      ],
      "metadata": {
        "colab": {
          "base_uri": "https://localhost:8080/"
        },
        "id": "IT1C1fvH9Ni5",
        "outputId": "f341a256-3749-4076-f177-c3f6904fa3c9"
      },
      "execution_count": null,
      "outputs": [
        {
          "output_type": "stream",
          "name": "stdout",
          "text": [
            "original list is [1, 3, 5, 7, 9]\n",
            "after delete (del(c[2])) list is  [1, 3, 7, 9]\n",
            "after remove (c.remove(7)) list is  [1, 3, 9]\n"
          ]
        }
      ]
    },
    {
      "cell_type": "code",
      "source": [
        "# pop from list\n",
        "a = [1, 2, 2, 3, 3, 4, 5, 3, 2, 6, 7]\n",
        "print(f\"before pop from list, {a[9]}\")\n",
        "out = a.pop(9)  # in list, pop method will take index value to remove and return the element\n",
        "print(f\"after pop from list is {a} and pop item is {out}\")"
      ],
      "metadata": {
        "id": "5PTlpb719RdX"
      },
      "execution_count": null,
      "outputs": []
    },
    {
      "cell_type": "code",
      "source": [
        "#### How to get the max valued item of a list\n",
        "a = [1, 2, 2, 3, 3, 4, 5, 3, 2, 6, 7]\n",
        "print(\"actual list\", a, \"\\n\",\"max of list\", max(a))"
      ],
      "metadata": {
        "colab": {
          "base_uri": "https://localhost:8080/"
        },
        "id": "yVPk1dTOCLPN",
        "outputId": "d95fac97-42a5-47de-8c42-d58f049acb66"
      },
      "execution_count": null,
      "outputs": [
        {
          "output_type": "stream",
          "name": "stdout",
          "text": [
            "actual list [1, 2, 2, 3, 3, 4, 5, 3, 2, 6, 7] \n",
            " max of list 7\n"
          ]
        }
      ]
    },
    {
      "cell_type": "code",
      "source": [
        "#### How to get the min valued item of a list\n",
        "a = [1, 2, 3, 4, 5, -1, -5, 6, 7]\n",
        "print(\"actual list\", a, \"\\n\",\"min of list\", min(a))"
      ],
      "metadata": {
        "colab": {
          "base_uri": "https://localhost:8080/"
        },
        "id": "ow0jtQfLC150",
        "outputId": "76ed1e0e-deed-47b6-8640-3154789e7dd5"
      },
      "execution_count": null,
      "outputs": [
        {
          "output_type": "stream",
          "name": "stdout",
          "text": [
            "actual list [1, 2, 3, 4, 5, -1, -5, 6, 7] \n",
            " min of list -5\n"
          ]
        }
      ]
    },
    {
      "cell_type": "code",
      "source": [
        "#### Differentiate between `append()` and `extend()` methods in list.\n",
        "a = [1,2,3]\n",
        "\n",
        "print(\"original a:\", a)\n",
        "a.append(7)\n",
        "print(\"after append, a:\", a)\n",
        "a.extend([8])  # extends always takes each elements from iterable\n",
        "print(\"after extend, a:\", a)"
      ],
      "metadata": {
        "colab": {
          "base_uri": "https://localhost:8080/"
        },
        "id": "oq0q_bV0EmxQ",
        "outputId": "cfd1c423-ffc7-4556-e40f-09c40fd8b4ff"
      },
      "execution_count": null,
      "outputs": [
        {
          "output_type": "stream",
          "name": "stdout",
          "text": [
            "original a: [1, 2, 3]\n",
            "after append, a: [1, 2, 3, [7]]\n",
            "after extend, a: [1, 2, 3, [7], 8]\n"
          ]
        }
      ]
    },
    {
      "cell_type": "code",
      "source": [
        "#### Join and sort two existing lists\n",
        "a = [1, 3, 2]\n",
        "b = [5, 4, 6]\n",
        "\n",
        "# join 2 lists\n",
        "a.extend(b)\n",
        "print(\"after join, a:\", a)\n",
        "\n",
        "# sort\n",
        "a.sort()  # returns None\n",
        "print(\"after sort a:\", a)\n"
      ],
      "metadata": {
        "colab": {
          "base_uri": "https://localhost:8080/"
        },
        "id": "xyCmDYjyJuJX",
        "outputId": "ed950287-64f0-438f-b8d8-0304f184167a"
      },
      "execution_count": null,
      "outputs": [
        {
          "output_type": "stream",
          "name": "stdout",
          "text": [
            "after join, a: [1, 3, 2, 5, 4, 6]\n",
            "after sort a: [1, 2, 3, 4, 5, 6]\n"
          ]
        }
      ]
    },
    {
      "cell_type": "code",
      "source": [
        "#### Find the number of times a value is present in a list\n",
        "l = [1, 2, 2, 3, 3, 4, 5, 3, 2, 6, 7]\n",
        "\n",
        "d = {}\n",
        "unique_l = list(set(l))\n",
        "for i in unique_l:\n",
        "  d[i] = l.count(i)\n",
        "\n",
        "print(\"umber of times a value is present in a list\",d)"
      ],
      "metadata": {
        "colab": {
          "base_uri": "https://localhost:8080/"
        },
        "id": "Q7JP_Ac2Kxw9",
        "outputId": "1e00be53-725b-4a33-9df1-994bfd505411"
      },
      "execution_count": null,
      "outputs": [
        {
          "output_type": "stream",
          "name": "stdout",
          "text": [
            "umber of times a value is present in a list {1: 1, 2: 3, 3: 3, 4: 1, 5: 1, 6: 1, 7: 1}\n"
          ]
        }
      ]
    },
    {
      "cell_type": "code",
      "source": [
        "### What is the output \n",
        "\n",
        "d = [1, 2, 3, 4] \n",
        "for i, a in enumerate(d):\n",
        "  del(d[i])\n",
        "  print(d) \n",
        "print(d)"
      ],
      "metadata": {
        "id": "7tzF749Ja_LB"
      },
      "execution_count": null,
      "outputs": []
    },
    {
      "cell_type": "code",
      "source": [
        "#### What is the output\n",
        "a = []\n",
        "a.append(a * 10)\n",
        "print(a)"
      ],
      "metadata": {
        "colab": {
          "base_uri": "https://localhost:8080/"
        },
        "id": "Vhx6fJWKY_x6",
        "outputId": "11dda62f-6eda-4d22-9031-37d2eeedffe2"
      },
      "execution_count": null,
      "outputs": [
        {
          "output_type": "stream",
          "name": "stdout",
          "text": [
            "[[]]\n"
          ]
        }
      ]
    },
    {
      "cell_type": "code",
      "source": [
        "#### What is the output\n",
        "a = [101, 102]\n",
        "b = a * 5\n",
        "a.append(2)\n",
        "print(\"b =\", b)\n",
        "print(\"a =\", a)"
      ],
      "metadata": {
        "colab": {
          "base_uri": "https://localhost:8080/"
        },
        "id": "splPdf2xY7Gc",
        "outputId": "6fab6966-d4f2-4d6a-a3e6-21a0e021708c"
      },
      "execution_count": null,
      "outputs": [
        {
          "output_type": "stream",
          "name": "stdout",
          "text": [
            "b = [101, 102, 101, 102, 101, 102, 101, 102, 101, 102]\n",
            "a = [101, 102, 2]\n"
          ]
        }
      ]
    },
    {
      "cell_type": "markdown",
      "source": [
        "#### check execution time from notebook \n",
        "**%%time**"
      ],
      "metadata": {
        "id": "-pxqIPdnyWOZ"
      }
    },
    {
      "cell_type": "markdown",
      "source": [
        "### Should do\n",
        "\n",
        "1. Either use tabs or 2 spaces oe 4 spaces\n"
      ],
      "metadata": {
        "id": "qWfILt48kSkP"
      }
    },
    {
      "cell_type": "markdown",
      "source": [
        "### Imp Note\n",
        "1. **Static code analyser**, checkes the issue within the code, will not execute the code (example:\n",
        "2. **Naming convention** of variable:\n",
        "  1. upper case with underscore for class name and constants\n",
        "  2. variable can start with \"_\" and string, can't start with Number\n",
        "3. **79 letters** allowed per line of python code (recommendation)\n",
        "3. Datatypes:\n",
        "  1. Basic: Number, String\n",
        "  2. Complex:\n",
        "    1. List:\n",
        "    2. Dictionary:\n",
        "  3. Boolean:\n",
        "    1. True = 1\n",
        "    2. False = 0\n",
        "    3. any empty collection ~ False\n",
        "  4. String:\n",
        "    1. default encoding is **unicode** \n",
        "    1. Standard String: can handle escape characters (\\b, \\n, \\t)\n",
        "    2. Raw String: use r or R\n",
        "    3. Formatted String: use f or F (f-string), use {} or {0} or  {\"key\"}\n",
        "    1. we can print unicode using \"\\u\" \n",
        "    4. {<>:padding.text_length_truncate}\n",
        "    5. {:^} = center aligned\n",
        "    6. use casefold instead on lower and upper comparison\n",
        "4. Immutable (int, number, str, tupple, hashable): \n",
        "  1. can't change the data as well as memory address\n",
        "  2. can't add, update, delete\n",
        "5. hashable:\n",
        "  1. hashable are those immutable datatypes , which can't store mutable data.\n",
        "  2. Hashable means unique.\n",
        "\n",
        "6. error:\n",
        "  1. complied time error\n",
        "  2. run time error\n"
      ],
      "metadata": {
        "id": "AnytG4cel5Ua"
      }
    }
  ]
}