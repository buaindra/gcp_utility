{
  "nbformat": 4,
  "nbformat_minor": 0,
  "metadata": {
    "colab": {
      "name": "Kubernetes Notes.ipynb",
      "provenance": [],
      "authorship_tag": "ABX9TyOtbY9bWIjH8tPc6Zy9QP7z",
      "include_colab_link": true
    },
    "kernelspec": {
      "name": "python3",
      "display_name": "Python 3"
    },
    "language_info": {
      "name": "python"
    }
  },
  "cells": [
    {
      "cell_type": "markdown",
      "metadata": {
        "id": "view-in-github",
        "colab_type": "text"
      },
      "source": [
        "<a href=\"https://colab.research.google.com/github/buaindra/gcp_utility/blob/main/Docker_Kubernetes/Kubernetes_Notes.ipynb\" target=\"_parent\"><img src=\"https://colab.research.google.com/assets/colab-badge.svg\" alt=\"Open In Colab\"/></a>"
      ]
    },
    {
      "cell_type": "markdown",
      "source": [
        "### Kubernetes(COE : Container Orchestration Engine)"
      ],
      "metadata": {
        "id": "G437k1laK7tb"
      }
    },
    {
      "cell_type": "markdown",
      "source": [
        "> Namespace\n",
        ">> Partition of stacks/projects/\n",
        ">"
      ],
      "metadata": {
        "id": "aD9gOc0gM9-f"
      }
    },
    {
      "cell_type": "markdown",
      "source": [
        "\n",
        "> POD:\n",
        "1. U cn create multiple container inside 1 pod to deploy multiple app/process\n",
        "2. Single container can handle single process easily, but to handle multiple process, it's tricky.\n",
        "3. Most 99% scenarios, 1 pod handle 1 container and 1 container handle 1 app\n",
        ">\n",
        "> Pod spec: (AKMS)\n",
        "1. A: api version\n",
        "2. K: kind\n",
        "3. M: Metadata (labels, tags)\n",
        "3. S: spec, container specifications with immage and host (replica set, update strategy, pod spec)\n",
        ">\n"
      ],
      "metadata": {
        "id": "oGLtcM3JM4a5"
      }
    },
    {
      "cell_type": "markdown",
      "source": [
        "### Replication Controller / Replica Set\n",
        "> Fault tolerance\n",
        "> Self healing, vertical scalling\n",
        ">\n",
        "> Replica set is new feature and works on specific sets/version specified in Pod spec\n",
        ">\n",
        "> Replicaset + update strategies = deployment"
      ],
      "metadata": {
        "id": "LFAYd3EUNrKP"
      }
    },
    {
      "cell_type": "markdown",
      "source": [
        "### Service discovery & Load Balancing\n",
        "> Using api, u don't need to hardcode endpoint ip\n",
        "> It will dynamically allot"
      ],
      "metadata": {
        "id": "jkIfOw-HCQbo"
      }
    },
    {
      "cell_type": "markdown",
      "source": [
        "### Other info\n",
        "> Docker:\n",
        ">> Docker compose\n",
        ">>\n",
        ">> Docker Container"
      ],
      "metadata": {
        "id": "aPM1WJDkNBLc"
      }
    }
  ]
}