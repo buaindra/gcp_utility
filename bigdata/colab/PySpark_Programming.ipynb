{
  "nbformat": 4,
  "nbformat_minor": 0,
  "metadata": {
    "colab": {
      "name": "PySpark_Programming.ipynb",
      "provenance": [],
      "collapsed_sections": [],
      "authorship_tag": "ABX9TyM46jSLqgBOBt09Q7RIGi05",
      "include_colab_link": true
    },
    "kernelspec": {
      "name": "python3",
      "display_name": "Python 3"
    },
    "language_info": {
      "name": "python"
    }
  },
  "cells": [
    {
      "cell_type": "markdown",
      "metadata": {
        "id": "view-in-github",
        "colab_type": "text"
      },
      "source": [
        "<a href=\"https://colab.research.google.com/github/buaindra/gcp_utility/blob/main/bigdata/colab/PySpark_Programming.ipynb\" target=\"_parent\"><img src=\"https://colab.research.google.com/assets/colab-badge.svg\" alt=\"Open In Colab\"/></a>"
      ]
    },
    {
      "cell_type": "markdown",
      "source": [
        "# PySpark"
      ],
      "metadata": {
        "id": "gLwD-_vS_FXW"
      }
    },
    {
      "cell_type": "markdown",
      "source": [
        "#### Install pyspark"
      ],
      "metadata": {
        "id": "-1YtVaZ6_LCA"
      }
    },
    {
      "cell_type": "code",
      "execution_count": null,
      "metadata": {
        "id": "QgzhQADT--3w"
      },
      "outputs": [],
      "source": [
        "!pip install pyspark"
      ]
    },
    {
      "cell_type": "markdown",
      "source": [
        "#### import pyspark and create **spark session**"
      ],
      "metadata": {
        "id": "Ts5FMBzV_kEo"
      }
    },
    {
      "cell_type": "code",
      "source": [
        "import pyspark\n",
        "from pyspark.sql import SparkSession\n",
        "\n",
        "spark = SparkSession.builder.getOrCreate()"
      ],
      "metadata": {
        "id": "HbkvJil2_i8k"
      },
      "execution_count": null,
      "outputs": []
    },
    {
      "cell_type": "markdown",
      "source": [
        "#### Read csv file"
      ],
      "metadata": {
        "id": "e84foPv-Ar_R"
      }
    },
    {
      "cell_type": "code",
      "source": [
        "diamonds_df = spark.read.format(\"csv\") \\\n",
        "                .option(\"header\", \"true\") \\\n",
        "                .option(\"inferSchema\", \"true\") \\\n",
        "                .load(\"/content/diamonds.csv\")\n",
        "\n",
        "diamonds_df.show(10)"
      ],
      "metadata": {
        "colab": {
          "base_uri": "https://localhost:8080/"
        },
        "id": "vJ3-JlragP63",
        "outputId": "8447dacf-6605-4fe6-9445-27c2e78cde68"
      },
      "execution_count": 52,
      "outputs": [
        {
          "output_type": "stream",
          "name": "stdout",
          "text": [
            "+-----+---------+-----+-------+-----+-----+-----+----+----+----+\n",
            "|carat|      cut|color|clarity|depth|table|price|   x|   y|   z|\n",
            "+-----+---------+-----+-------+-----+-----+-----+----+----+----+\n",
            "| 0.23|    Ideal|    E|    SI2| 61.5| 55.0|  326|3.95|3.98|2.43|\n",
            "| 0.21|  Premium|    E|    SI1| 59.8| 61.0|  326|3.89|3.84|2.31|\n",
            "| 0.23|     Good|    E|    VS1| 56.9| 65.0|  327|4.05|4.07|2.31|\n",
            "| 0.29|  Premium|    I|    VS2| 62.4| 58.0|  334| 4.2|4.23|2.63|\n",
            "| 0.31|     Good|    J|    SI2| 63.3| 58.0|  335|4.34|4.35|2.75|\n",
            "| 0.24|Very Good|    J|   VVS2| 62.8| 57.0|  336|3.94|3.96|2.48|\n",
            "| 0.24|Very Good|    I|   VVS1| 62.3| 57.0|  336|3.95|3.98|2.47|\n",
            "| 0.26|Very Good|    H|    SI1| 61.9| 55.0|  337|4.07|4.11|2.53|\n",
            "| 0.22|     Fair|    E|    VS2| 65.1| 61.0|  337|3.87|3.78|2.49|\n",
            "| 0.23|Very Good|    H|    VS1| 59.4| 61.0|  338| 4.0|4.05|2.39|\n",
            "+-----+---------+-----+-------+-----+-----+-----+----+----+----+\n",
            "only showing top 10 rows\n",
            "\n"
          ]
        }
      ]
    },
    {
      "cell_type": "code",
      "source": [
        "diamonds_df = spark.read.csv(\"/content/diamonds.csv\", header=True, inferSchema=True)\n",
        "diamonds_df.show(10)"
      ],
      "metadata": {
        "colab": {
          "base_uri": "https://localhost:8080/"
        },
        "id": "qcmQ3PTW_i4u",
        "outputId": "9d17228a-598e-4100-9b31-6e929762a201"
      },
      "execution_count": 53,
      "outputs": [
        {
          "output_type": "stream",
          "name": "stdout",
          "text": [
            "+-----+---------+-----+-------+-----+-----+-----+----+----+----+\n",
            "|carat|      cut|color|clarity|depth|table|price|   x|   y|   z|\n",
            "+-----+---------+-----+-------+-----+-----+-----+----+----+----+\n",
            "| 0.23|    Ideal|    E|    SI2| 61.5| 55.0|  326|3.95|3.98|2.43|\n",
            "| 0.21|  Premium|    E|    SI1| 59.8| 61.0|  326|3.89|3.84|2.31|\n",
            "| 0.23|     Good|    E|    VS1| 56.9| 65.0|  327|4.05|4.07|2.31|\n",
            "| 0.29|  Premium|    I|    VS2| 62.4| 58.0|  334| 4.2|4.23|2.63|\n",
            "| 0.31|     Good|    J|    SI2| 63.3| 58.0|  335|4.34|4.35|2.75|\n",
            "| 0.24|Very Good|    J|   VVS2| 62.8| 57.0|  336|3.94|3.96|2.48|\n",
            "| 0.24|Very Good|    I|   VVS1| 62.3| 57.0|  336|3.95|3.98|2.47|\n",
            "| 0.26|Very Good|    H|    SI1| 61.9| 55.0|  337|4.07|4.11|2.53|\n",
            "| 0.22|     Fair|    E|    VS2| 65.1| 61.0|  337|3.87|3.78|2.49|\n",
            "| 0.23|Very Good|    H|    VS1| 59.4| 61.0|  338| 4.0|4.05|2.39|\n",
            "+-----+---------+-----+-------+-----+-----+-----+----+----+----+\n",
            "only showing top 10 rows\n",
            "\n"
          ]
        }
      ]
    },
    {
      "cell_type": "markdown",
      "source": [
        "#### Analysis the spark dataframe columns, datatypes and statistics"
      ],
      "metadata": {
        "id": "-ethpudTDow6"
      }
    },
    {
      "cell_type": "code",
      "source": [
        "diamonds_df.columns"
      ],
      "metadata": {
        "colab": {
          "base_uri": "https://localhost:8080/"
        },
        "id": "a1mMfWTWDwr3",
        "outputId": "c1a1a96c-cbd7-4f44-8bd6-2158807044b6"
      },
      "execution_count": 55,
      "outputs": [
        {
          "output_type": "execute_result",
          "data": {
            "text/plain": [
              "['carat', 'cut', 'color', 'clarity', 'depth', 'table', 'price', 'x', 'y', 'z']"
            ]
          },
          "metadata": {},
          "execution_count": 55
        }
      ]
    },
    {
      "cell_type": "code",
      "source": [
        "diamonds_df.dtypes"
      ],
      "metadata": {
        "colab": {
          "base_uri": "https://localhost:8080/"
        },
        "id": "uuIfO_sZEKGo",
        "outputId": "153e78fe-489f-4a5f-c898-7ec536f8d226"
      },
      "execution_count": 56,
      "outputs": [
        {
          "output_type": "execute_result",
          "data": {
            "text/plain": [
              "[('carat', 'double'),\n",
              " ('cut', 'string'),\n",
              " ('color', 'string'),\n",
              " ('clarity', 'string'),\n",
              " ('depth', 'double'),\n",
              " ('table', 'double'),\n",
              " ('price', 'int'),\n",
              " ('x', 'double'),\n",
              " ('y', 'double'),\n",
              " ('z', 'double')]"
            ]
          },
          "metadata": {},
          "execution_count": 56
        }
      ]
    },
    {
      "cell_type": "code",
      "source": [
        "diamonds_df.describe().show()"
      ],
      "metadata": {
        "colab": {
          "base_uri": "https://localhost:8080/"
        },
        "id": "wNikdMxGEWAc",
        "outputId": "24c6bc16-837c-4f3a-ce2b-fa513bdc485e"
      },
      "execution_count": 57,
      "outputs": [
        {
          "output_type": "stream",
          "name": "stdout",
          "text": [
            "+-------+------------------+---------+-----+-------+------------------+------------------+-----------------+------------------+------------------+------------------+\n",
            "|summary|             carat|      cut|color|clarity|             depth|             table|            price|                 x|                 y|                 z|\n",
            "+-------+------------------+---------+-----+-------+------------------+------------------+-----------------+------------------+------------------+------------------+\n",
            "|  count|             53940|    53940|53940|  53940|             53940|             53940|            53940|             53940|             53940|             53940|\n",
            "|   mean|0.7979397478679852|     null| null|   null| 61.74940489432624| 57.45718390804603|3932.799721913237| 5.731157211716609| 5.734525954764462|3.5387337782723316|\n",
            "| stddev|0.4740112444054196|     null| null|   null|1.4326213188336525|2.2344905628213247|3989.439738146397|1.1217607467924915|1.1421346741235616|0.7056988469499883|\n",
            "|    min|               0.2|     Fair|    D|     I1|              43.0|              43.0|              326|               0.0|               0.0|               0.0|\n",
            "|    max|              5.01|Very Good|    J|   VVS2|              79.0|              95.0|            18823|             10.74|              58.9|              31.8|\n",
            "+-------+------------------+---------+-----+-------+------------------+------------------+-----------------+------------------+------------------+------------------+\n",
            "\n"
          ]
        }
      ]
    },
    {
      "cell_type": "markdown",
      "source": [
        "#### Handling null in spark dataframe"
      ],
      "metadata": {
        "id": "GYGHmKkDV7vm"
      }
    },
    {
      "cell_type": "code",
      "source": [
        ""
      ],
      "metadata": {
        "id": "ceBCdqlPWA0l"
      },
      "execution_count": null,
      "outputs": []
    },
    {
      "cell_type": "markdown",
      "source": [
        "#### link a temp view with this spark dataframe for sql query\n",
        "\n"
      ],
      "metadata": {
        "id": "Et1w0TUKNOv1"
      }
    },
    {
      "cell_type": "code",
      "source": [
        "diamonds_df.createOrReplaceTempView(\"tbl_diamonds\")\n",
        "diamonds_df = spark.sql(\"select * from tbl_diamonds where price <= 350\")\n",
        "diamonds_df.show()\n",
        "spark.catalog.dropTempView(\"tbl_diamonds\")"
      ],
      "metadata": {
        "colab": {
          "base_uri": "https://localhost:8080/"
        },
        "id": "pCbve711NP8c",
        "outputId": "12c0fbf4-1000-4fe1-aabd-d90f20c6d8b0"
      },
      "execution_count": 58,
      "outputs": [
        {
          "output_type": "stream",
          "name": "stdout",
          "text": [
            "+-----+---------+-----+-------+-----+-----+-----+----+----+----+\n",
            "|carat|      cut|color|clarity|depth|table|price|   x|   y|   z|\n",
            "+-----+---------+-----+-------+-----+-----+-----+----+----+----+\n",
            "| 0.23|    Ideal|    E|    SI2| 61.5| 55.0|  326|3.95|3.98|2.43|\n",
            "| 0.21|  Premium|    E|    SI1| 59.8| 61.0|  326|3.89|3.84|2.31|\n",
            "| 0.23|     Good|    E|    VS1| 56.9| 65.0|  327|4.05|4.07|2.31|\n",
            "| 0.29|  Premium|    I|    VS2| 62.4| 58.0|  334| 4.2|4.23|2.63|\n",
            "| 0.31|     Good|    J|    SI2| 63.3| 58.0|  335|4.34|4.35|2.75|\n",
            "| 0.24|Very Good|    J|   VVS2| 62.8| 57.0|  336|3.94|3.96|2.48|\n",
            "| 0.24|Very Good|    I|   VVS1| 62.3| 57.0|  336|3.95|3.98|2.47|\n",
            "| 0.26|Very Good|    H|    SI1| 61.9| 55.0|  337|4.07|4.11|2.53|\n",
            "| 0.22|     Fair|    E|    VS2| 65.1| 61.0|  337|3.87|3.78|2.49|\n",
            "| 0.23|Very Good|    H|    VS1| 59.4| 61.0|  338| 4.0|4.05|2.39|\n",
            "|  0.3|     Good|    J|    SI1| 64.0| 55.0|  339|4.25|4.28|2.73|\n",
            "| 0.23|    Ideal|    J|    VS1| 62.8| 56.0|  340|3.93| 3.9|2.46|\n",
            "| 0.22|  Premium|    F|    SI1| 60.4| 61.0|  342|3.88|3.84|2.33|\n",
            "| 0.31|    Ideal|    J|    SI2| 62.2| 54.0|  344|4.35|4.37|2.71|\n",
            "|  0.2|  Premium|    E|    SI2| 60.2| 62.0|  345|3.79|3.75|2.27|\n",
            "| 0.32|  Premium|    E|     I1| 60.9| 58.0|  345|4.38|4.42|2.68|\n",
            "|  0.3|    Ideal|    I|    SI2| 62.0| 54.0|  348|4.31|4.34|2.68|\n",
            "+-----+---------+-----+-------+-----+-----+-----+----+----+----+\n",
            "\n"
          ]
        }
      ]
    },
    {
      "cell_type": "markdown",
      "source": [
        "#### Adding column into the existing spark dataframe"
      ],
      "metadata": {
        "id": "_1AKab6FF50m"
      }
    },
    {
      "cell_type": "code",
      "source": [
        "diamonds_df = diamonds_df.withColumn(\"price_in_rupees\", diamonds_df[\"price\"]*80)\n",
        "diamonds_df.show()"
      ],
      "metadata": {
        "colab": {
          "base_uri": "https://localhost:8080/"
        },
        "id": "GK2r_zeuF5c0",
        "outputId": "5e36651a-ca18-404b-824b-a3db58f369db"
      },
      "execution_count": 59,
      "outputs": [
        {
          "output_type": "stream",
          "name": "stdout",
          "text": [
            "+-----+---------+-----+-------+-----+-----+-----+----+----+----+---------------+\n",
            "|carat|      cut|color|clarity|depth|table|price|   x|   y|   z|price_in_rupees|\n",
            "+-----+---------+-----+-------+-----+-----+-----+----+----+----+---------------+\n",
            "| 0.23|    Ideal|    E|    SI2| 61.5| 55.0|  326|3.95|3.98|2.43|          26080|\n",
            "| 0.21|  Premium|    E|    SI1| 59.8| 61.0|  326|3.89|3.84|2.31|          26080|\n",
            "| 0.23|     Good|    E|    VS1| 56.9| 65.0|  327|4.05|4.07|2.31|          26160|\n",
            "| 0.29|  Premium|    I|    VS2| 62.4| 58.0|  334| 4.2|4.23|2.63|          26720|\n",
            "| 0.31|     Good|    J|    SI2| 63.3| 58.0|  335|4.34|4.35|2.75|          26800|\n",
            "| 0.24|Very Good|    J|   VVS2| 62.8| 57.0|  336|3.94|3.96|2.48|          26880|\n",
            "| 0.24|Very Good|    I|   VVS1| 62.3| 57.0|  336|3.95|3.98|2.47|          26880|\n",
            "| 0.26|Very Good|    H|    SI1| 61.9| 55.0|  337|4.07|4.11|2.53|          26960|\n",
            "| 0.22|     Fair|    E|    VS2| 65.1| 61.0|  337|3.87|3.78|2.49|          26960|\n",
            "| 0.23|Very Good|    H|    VS1| 59.4| 61.0|  338| 4.0|4.05|2.39|          27040|\n",
            "|  0.3|     Good|    J|    SI1| 64.0| 55.0|  339|4.25|4.28|2.73|          27120|\n",
            "| 0.23|    Ideal|    J|    VS1| 62.8| 56.0|  340|3.93| 3.9|2.46|          27200|\n",
            "| 0.22|  Premium|    F|    SI1| 60.4| 61.0|  342|3.88|3.84|2.33|          27360|\n",
            "| 0.31|    Ideal|    J|    SI2| 62.2| 54.0|  344|4.35|4.37|2.71|          27520|\n",
            "|  0.2|  Premium|    E|    SI2| 60.2| 62.0|  345|3.79|3.75|2.27|          27600|\n",
            "| 0.32|  Premium|    E|     I1| 60.9| 58.0|  345|4.38|4.42|2.68|          27600|\n",
            "|  0.3|    Ideal|    I|    SI2| 62.0| 54.0|  348|4.31|4.34|2.68|          27840|\n",
            "+-----+---------+-----+-------+-----+-----+-----+----+----+----+---------------+\n",
            "\n"
          ]
        }
      ]
    },
    {
      "cell_type": "markdown",
      "source": [
        "#### Renaming the existing column in spark dataframe"
      ],
      "metadata": {
        "id": "VW0HWgJiHHKv"
      }
    },
    {
      "cell_type": "code",
      "source": [
        "diamonds_df = diamonds_df.withColumnRenamed(\"x\", \"length\") \\\n",
        "                .withColumnRenamed(\"y\", \"width\") \\\n",
        "                .withColumnRenamed(\"z\", \"depth\")\n",
        "\n",
        "diamonds_df.show()"
      ],
      "metadata": {
        "colab": {
          "base_uri": "https://localhost:8080/"
        },
        "id": "bb_x_hRmHG5G",
        "outputId": "58992ad1-1c50-41c7-c5aa-e8a8b6475ccc"
      },
      "execution_count": 60,
      "outputs": [
        {
          "output_type": "stream",
          "name": "stdout",
          "text": [
            "+-----+---------+-----+-------+-----+-----+-----+------+-----+-----+---------------+\n",
            "|carat|      cut|color|clarity|depth|table|price|length|width|depth|price_in_rupees|\n",
            "+-----+---------+-----+-------+-----+-----+-----+------+-----+-----+---------------+\n",
            "| 0.23|    Ideal|    E|    SI2| 61.5| 55.0|  326|  3.95| 3.98| 2.43|          26080|\n",
            "| 0.21|  Premium|    E|    SI1| 59.8| 61.0|  326|  3.89| 3.84| 2.31|          26080|\n",
            "| 0.23|     Good|    E|    VS1| 56.9| 65.0|  327|  4.05| 4.07| 2.31|          26160|\n",
            "| 0.29|  Premium|    I|    VS2| 62.4| 58.0|  334|   4.2| 4.23| 2.63|          26720|\n",
            "| 0.31|     Good|    J|    SI2| 63.3| 58.0|  335|  4.34| 4.35| 2.75|          26800|\n",
            "| 0.24|Very Good|    J|   VVS2| 62.8| 57.0|  336|  3.94| 3.96| 2.48|          26880|\n",
            "| 0.24|Very Good|    I|   VVS1| 62.3| 57.0|  336|  3.95| 3.98| 2.47|          26880|\n",
            "| 0.26|Very Good|    H|    SI1| 61.9| 55.0|  337|  4.07| 4.11| 2.53|          26960|\n",
            "| 0.22|     Fair|    E|    VS2| 65.1| 61.0|  337|  3.87| 3.78| 2.49|          26960|\n",
            "| 0.23|Very Good|    H|    VS1| 59.4| 61.0|  338|   4.0| 4.05| 2.39|          27040|\n",
            "|  0.3|     Good|    J|    SI1| 64.0| 55.0|  339|  4.25| 4.28| 2.73|          27120|\n",
            "| 0.23|    Ideal|    J|    VS1| 62.8| 56.0|  340|  3.93|  3.9| 2.46|          27200|\n",
            "| 0.22|  Premium|    F|    SI1| 60.4| 61.0|  342|  3.88| 3.84| 2.33|          27360|\n",
            "| 0.31|    Ideal|    J|    SI2| 62.2| 54.0|  344|  4.35| 4.37| 2.71|          27520|\n",
            "|  0.2|  Premium|    E|    SI2| 60.2| 62.0|  345|  3.79| 3.75| 2.27|          27600|\n",
            "| 0.32|  Premium|    E|     I1| 60.9| 58.0|  345|  4.38| 4.42| 2.68|          27600|\n",
            "|  0.3|    Ideal|    I|    SI2| 62.0| 54.0|  348|  4.31| 4.34| 2.68|          27840|\n",
            "+-----+---------+-----+-------+-----+-----+-----+------+-----+-----+---------------+\n",
            "\n"
          ]
        }
      ]
    },
    {
      "cell_type": "markdown",
      "source": [
        "#### get the data from the spark dataframe using groupBy"
      ],
      "metadata": {
        "id": "oP0l-vFBDzsF"
      }
    },
    {
      "cell_type": "code",
      "source": [
        "from pyspark.sql.functions import avg\n",
        "\n",
        "results_df = diamonds_df.select(\"color\", \"price\") \\\n",
        "              .groupBy(\"color\") \\\n",
        "              .agg(avg(\"price\")) \\\n",
        "              .sort(\"color\")\n",
        "\n",
        "results_df.show()"
      ],
      "metadata": {
        "colab": {
          "base_uri": "https://localhost:8080/"
        },
        "id": "IEsrFfURAu-f",
        "outputId": "422e91ec-66b0-4341-c6ba-7e0846913070"
      },
      "execution_count": 61,
      "outputs": [
        {
          "output_type": "stream",
          "name": "stdout",
          "text": [
            "+-----+-----------------+\n",
            "|color|       avg(price)|\n",
            "+-----+-----------------+\n",
            "|    E|334.3333333333333|\n",
            "|    F|            342.0|\n",
            "|    H|            337.5|\n",
            "|    I|339.3333333333333|\n",
            "|    J|            338.8|\n",
            "+-----+-----------------+\n",
            "\n"
          ]
        }
      ]
    },
    {
      "cell_type": "code",
      "source": [
        "display(results_df)  # not working like databricks notebook"
      ],
      "metadata": {
        "colab": {
          "base_uri": "https://localhost:8080/",
          "height": 35
        },
        "id": "MzEIIAi7_i3E",
        "outputId": "d0f30041-1449-4f7f-c447-39c0ffa9ff14"
      },
      "execution_count": 62,
      "outputs": [
        {
          "output_type": "display_data",
          "data": {
            "text/plain": [
              "DataFrame[color: string, avg(price): double]"
            ]
          },
          "metadata": {}
        }
      ]
    },
    {
      "cell_type": "code",
      "source": [
        ""
      ],
      "metadata": {
        "id": "tBNHPBVe_iz0"
      },
      "execution_count": null,
      "outputs": []
    },
    {
      "cell_type": "code",
      "source": [
        ""
      ],
      "metadata": {
        "id": "KnB1oCtl_iyE"
      },
      "execution_count": null,
      "outputs": []
    },
    {
      "cell_type": "code",
      "source": [
        ""
      ],
      "metadata": {
        "id": "ElMqTD44_ivT"
      },
      "execution_count": null,
      "outputs": []
    },
    {
      "cell_type": "code",
      "source": [
        ""
      ],
      "metadata": {
        "id": "0kqeVPBs_itZ"
      },
      "execution_count": null,
      "outputs": []
    },
    {
      "cell_type": "code",
      "source": [
        ""
      ],
      "metadata": {
        "id": "b_pPAv4L_iqf"
      },
      "execution_count": null,
      "outputs": []
    },
    {
      "cell_type": "code",
      "source": [
        ""
      ],
      "metadata": {
        "id": "r8XYUjEL_iov"
      },
      "execution_count": null,
      "outputs": []
    }
  ]
}