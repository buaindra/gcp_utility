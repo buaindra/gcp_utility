{
  "nbformat": 4,
  "nbformat_minor": 0,
  "metadata": {
    "colab": {
      "name": "Advanced_Airflow_DAG_code.ipynb",
      "provenance": [],
      "authorship_tag": "ABX9TyPmba8PbQuA2SJ0QU/0n+j4",
      "include_colab_link": true
    },
    "kernelspec": {
      "name": "python3",
      "display_name": "Python 3"
    },
    "language_info": {
      "name": "python"
    }
  },
  "cells": [
    {
      "cell_type": "markdown",
      "metadata": {
        "id": "view-in-github",
        "colab_type": "text"
      },
      "source": [
        "<a href=\"https://colab.research.google.com/github/buaindra/gcp_utility/blob/main/gcp/composer/Advanced_Airflow_DAG_code.ipynb\" target=\"_parent\"><img src=\"https://colab.research.google.com/assets/colab-badge.svg\" alt=\"Open In Colab\"/></a>"
      ]
    },
    {
      "cell_type": "markdown",
      "source": [
        "# Advanced Airflow DAG\n",
        "\n",
        "> Indented block\n",
        "\n"
      ],
      "metadata": {
        "id": "JSiY0y5dkGIF"
      }
    },
    {
      "cell_type": "markdown",
      "source": [
        "#### Ref:\n",
        "1. Medium blog: https://github.com/mbrukman/gcp-pso/blob/master/examples/cloud-composer-examples/composer_dataflow_examples/simple_load_dag.py"
      ],
      "metadata": {
        "id": "xXsfeG-0kSwF"
      }
    },
    {
      "cell_type": "markdown",
      "source": [
        "## Jinja Template issue"
      ],
      "metadata": {
        "id": "yDopiu4-kMus"
      }
    },
    {
      "cell_type": "code",
      "execution_count": null,
      "metadata": {
        "id": "FUO2g9DfkD10"
      },
      "outputs": [],
      "source": [
        ""
      ]
    }
  ]
}