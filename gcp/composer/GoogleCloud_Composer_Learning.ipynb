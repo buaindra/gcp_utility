{
  "nbformat": 4,
  "nbformat_minor": 0,
  "metadata": {
    "colab": {
      "name": "GoogleCloud_Composer_Learning.ipynb",
      "provenance": [],
      "authorship_tag": "ABX9TyPJNenac3GaUsyzn1rrPA8/",
      "include_colab_link": true
    },
    "kernelspec": {
      "name": "python3",
      "display_name": "Python 3"
    },
    "language_info": {
      "name": "python"
    }
  },
  "cells": [
    {
      "cell_type": "markdown",
      "metadata": {
        "id": "view-in-github",
        "colab_type": "text"
      },
      "source": [
        "<a href=\"https://colab.research.google.com/github/buaindra/gcp_utility/blob/main/gcp/composer/GoogleCloud_Composer_Learning.ipynb\" target=\"_parent\"><img src=\"https://colab.research.google.com/assets/colab-badge.svg\" alt=\"Open In Colab\"/></a>"
      ]
    },
    {
      "cell_type": "markdown",
      "source": [
        "# Airflow and Composer\n",
        "\n",
        "#### Airflow Summit 2022: https://www.crowdcast.io/e/airflowsummit2022/\n"
      ],
      "metadata": {
        "id": "oTdHbT2-K--J"
      }
    },
    {
      "cell_type": "markdown",
      "source": [
        "## DAG\n",
        "> Directed Acyclic Graph"
      ],
      "metadata": {
        "id": "DmffxztaSA5l"
      }
    },
    {
      "cell_type": "markdown",
      "source": [
        "### Dag Run\n",
        "1. Dag Run Status\n",
        "  1. success\n",
        "  2. failed\n",
        "  3. skipped\n",
        "2. schedule_interval\n",
        "  1. DAG argument\n",
        "  2. it can be a cron expression as str, cron preset, datetime.timedelta(mint=3)"
      ],
      "metadata": {
        "id": "LTGlsjDsLBV3"
      }
    },
    {
      "cell_type": "code",
      "execution_count": null,
      "metadata": {
        "id": "6nYikgiBK4VI"
      },
      "outputs": [],
      "source": [
        ""
      ]
    }
  ]
}