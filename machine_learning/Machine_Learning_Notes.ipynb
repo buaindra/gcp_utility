{
  "nbformat": 4,
  "nbformat_minor": 0,
  "metadata": {
    "colab": {
      "provenance": [],
      "authorship_tag": "ABX9TyO3NFcJUrYIBWnjlt2F484U",
      "include_colab_link": true
    },
    "kernelspec": {
      "name": "python3",
      "display_name": "Python 3"
    },
    "language_info": {
      "name": "python"
    }
  },
  "cells": [
    {
      "cell_type": "markdown",
      "metadata": {
        "id": "view-in-github",
        "colab_type": "text"
      },
      "source": [
        "<a href=\"https://colab.research.google.com/github/buaindra/gcp_utility/blob/main/machine_learning/Machine_Learning_Notes.ipynb\" target=\"_parent\"><img src=\"https://colab.research.google.com/assets/colab-badge.svg\" alt=\"Open In Colab\"/></a>"
      ]
    },
    {
      "cell_type": "markdown",
      "source": [
        "# Machine Learning "
      ],
      "metadata": {
        "id": "4Tm5vMmlTVAk"
      }
    },
    {
      "cell_type": "markdown",
      "source": [
        "### Machine Learning Models\n",
        "\n",
        "1. Supervised Learning:\n",
        "\t1. **Regression:**\n",
        "\t\t- Regression works on infinity/continuous value.\n",
        "\t\t- Has relationship between dependent and independent variable\n",
        "\t\t1. **Linear Regression:**\n",
        "\t\t\t- Its predict numerical value like an insurance premium or home value\n",
        "\t\t2. **Decision Tree:** \n",
        "\t\t\t- its based on nodes, more node you have, the decision tree will be accurate.\n",
        "\t\t3. **Random Forest:**\n",
        "\t\t\t- Ensemble Learning Technique.\n",
        "\t\t\t- builds of over decision trees, involve creating multiple decision trees using bootstrap data sets of original data and randomly selected subset of variables at each steps of the decision tree.\n",
        "\t\t\t- relying on \"Majority Wins\" model.\n",
        "\t\t4. **Neural Netwrok:**\n",
        "\t\t\t- Its a popular and multi layer model like neurons in humain brains\n",
        "\t\t\t- Input Layer -> Hidden Layer -> nth Hidden Layer -> Output Layer\n",
        "\n",
        "\t2. **Classification:**\n",
        "\t\t- Classification works on 2 or n number of fixed values or discrete values\n",
        "\t\t1. **Logistic Regression:**\n",
        "\t\t\t1. **Binary Logistic Regression:**\n",
        "\t\t\t  - Which predict one or two classes (yes/no, cat or dog image)\n",
        "\t\t\t2. **Multiclass logistic regression:**\n",
        "\t\t\t\t- which predict more than two classes (buy/hold/sell)\n",
        "\t\t2. **Support Vector Machine:**\n",
        "\t\t\n",
        "    \n",
        "2. Un-Supervised Learning:\n",
        "3. Reinforcement Learning:\n",
        "\t\t\n",
        "\t\n"
      ],
      "metadata": {
        "id": "7MSzaxH-TaYM"
      }
    },
    {
      "cell_type": "markdown",
      "source": [
        "### ML Model Learning:\n",
        "\n",
        "1. Training Options:\n",
        "\t1. Max Allowed Iteration:\n",
        "\t2. Actual Iteration: "
      ],
      "metadata": {
        "id": "WxYW10YTT1PL"
      }
    },
    {
      "cell_type": "code",
      "execution_count": null,
      "metadata": {
        "id": "xlnmU7vBTT1h"
      },
      "outputs": [],
      "source": []
    }
  ]
}