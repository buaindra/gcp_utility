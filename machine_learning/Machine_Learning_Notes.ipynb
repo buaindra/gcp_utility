{
  "nbformat": 4,
  "nbformat_minor": 0,
  "metadata": {
    "colab": {
      "provenance": [],
      "authorship_tag": "ABX9TyPmDS1Z603zVp8dIgMLMVMW",
      "include_colab_link": true
    },
    "kernelspec": {
      "name": "python3",
      "display_name": "Python 3"
    },
    "language_info": {
      "name": "python"
    }
  },
  "cells": [
    {
      "cell_type": "markdown",
      "metadata": {
        "id": "view-in-github",
        "colab_type": "text"
      },
      "source": [
        "<a href=\"https://colab.research.google.com/github/buaindra/gcp_utility/blob/main/machine_learning/Machine_Learning_Notes.ipynb\" target=\"_parent\"><img src=\"https://colab.research.google.com/assets/colab-badge.svg\" alt=\"Open In Colab\"/></a>"
      ]
    },
    {
      "cell_type": "markdown",
      "source": [
        "# Machine Learning "
      ],
      "metadata": {
        "id": "4Tm5vMmlTVAk"
      }
    },
    {
      "cell_type": "markdown",
      "source": [
        "### Machine Leraning Course\n",
        "1. Upgrad: https://learn.upgrad.com/course/3436 (Artificial Intelligence in the Real World)"
      ],
      "metadata": {
        "id": "Z1bWyNCWXJmT"
      }
    },
    {
      "cell_type": "markdown",
      "source": [
        "### What is Machine Learning, Ref:\n",
        "1. https://www.youtube.com/watch?v=ukzFI9rgwfU&t=1s"
      ],
      "metadata": {
        "id": "iPLO8XxzcQUq"
      }
    },
    {
      "cell_type": "markdown",
      "source": [
        "### ML Model, Ref:\n",
        "1. https://www.youtube.com/watch?v=yN7ypxC7838\n",
        "2. https://www.youtube.com/watch?v=38SUUaMX5Rg"
      ],
      "metadata": {
        "id": "TZWY4dNlb5pM"
      }
    },
    {
      "cell_type": "markdown",
      "source": [
        "### Machine Learning Models\n",
        "\n",
        "1. **Supervised Learning:**\n",
        "\t- This is based on labeled data.\n",
        "\t- This is learning from initial labeled dataset which train the model and Predictions and actions are taken based on this initial dataset.\n",
        "\n",
        "\t1. **Regression:**\n",
        "\t\t- Regression works on infinity/continuous value.\n",
        "\t\t- Has relationship between dependent and independent variable\n",
        "\t\t1. **Linear Regression:**\n",
        "\t\t\t- Its predict numerical value like an insurance premium or home value\n",
        "\t\t2. **Decision Tree:** \n",
        "\t\t\t- its based on nodes, more node you have, the decision tree will be accurate.\n",
        "\t\t3. **Random Forest:**\n",
        "\t\t\t- Ensemble Learning Technique.\n",
        "\t\t\t- builds of over decision trees, involve creating multiple decision trees using bootstrap data sets of original data and randomly selected subset of variables at each steps of the decision tree.\n",
        "\t\t\t- relying on \"Majority Wins\" model.\n",
        "\t\t4. **Neural Netwrok:**\n",
        "\t\t\t- Its a popular and multi layer model like neurons in humain brains\n",
        "\t\t\t- Input Layer -> Hidden Layer -> nth Hidden Layer -> Output Layer\n",
        "\n",
        "\t2. **Classification:**\n",
        "\t\t- Classification works on 2 or n number of fixed values or discrete values\n",
        "\t\t1. **Logistic Regression:**\n",
        "\t\t\t1. **Binary Logistic Regression:**\n",
        "\t\t\t  - Which predict one or two classes (yes/no, cat or dog image)\n",
        "\t\t\t2. **Multiclass logistic regression:**\n",
        "\t\t\t\t- which predict more than two classes (buy/hold/sell)\n",
        "\t\t2. **Support Vector Machine:**\n",
        "\t\t\t- Supervised classification technique that carries an objective to find a hyperlane in n-dimensional space that can distinctly classify the data points.\n",
        "\t\t3. **Naive Bayes:**\n",
        "\t\t\t- Its a classifier, acts as a probabilistic machine learning model used for classification task. \n",
        "\t\t\t- crux of the classifier is based on Bayes Theorem.\n",
        "\t\t4. **Decision Tree, Random Forest, Neural Netwrok** also works same like regression, but only difference is that, outcome is discrete rather than continuous.\n",
        "    \n",
        "2. **Un-Supervised Learning:**\n",
        "\t- Used to draw inferences and find patterns from input data without references to the labeled outcome.\n",
        "\t- Re-modeling themselves based on the data pattern.\n",
        "\t1. **Clustering:**\n",
        "\t\t- involves grouping of data points, frequently used for customer segmentation, fraud detection and document classification.\n",
        "\t\t- below models have different methods to find the clusters and aim to achieve the same thing.\n",
        "\t\t1. **K-means:**\n",
        "\t\t2. **Hierarchical:**\n",
        "\t\t3. **Mean shift:**\n",
        "\t\t4. **Density-based:**\n",
        "\n",
        "\t2. **Dimensionality Reduction:**\n",
        "\t\t- It is a process of reducing dimensions of your feature sets, simply reducing the number of features.\n",
        "\t\t- They are mostly categorized as either \"Feature elimination\" or \"Feature extraction\"\n",
        "\t\t- Popular method is \"Principal Component Analysis (PCA)\" \n",
        "\n",
        "3. **Reinforcement Learning:**\n",
        "\t- It referes to the system learning through positive and negetive reinforcement on any action that it takes, wherein the reinforcement is provided by the external agent that helps the machine to learn.\n",
        "\t- this is an trial and error method.\n",
        "\n",
        "\t\n"
      ],
      "metadata": {
        "id": "7MSzaxH-TaYM"
      }
    },
    {
      "cell_type": "markdown",
      "source": [
        "### ML Model Learning:\n",
        "\n",
        "1. Training Options:\n",
        "\t1. Max Allowed Iteration:\n",
        "\t2. Actual Iteration: "
      ],
      "metadata": {
        "id": "WxYW10YTT1PL"
      }
    },
    {
      "cell_type": "code",
      "execution_count": null,
      "metadata": {
        "id": "xlnmU7vBTT1h"
      },
      "outputs": [],
      "source": []
    }
  ]
}